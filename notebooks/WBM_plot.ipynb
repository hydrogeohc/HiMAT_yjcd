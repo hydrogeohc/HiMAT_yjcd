{
 "cells": [
  {
   "cell_type": "markdown",
   "metadata": {},
   "source": [
    "### Scripts to construct a water balance from LIS ouptut, for GRACE comparison and forward modeling"
   ]
  },
  {
   "cell_type": "code",
   "execution_count": 1,
   "metadata": {},
   "outputs": [],
   "source": [
    "# Import the necessary libraries\n",
    "\n",
    "%matplotlib inline\n",
    "import os\n",
    "import sys\n",
    "import datetime\n",
    "\n",
    "import xarray as xr\n",
    "\n",
    "import pandas as pd\n",
    "\n",
    "from dask.diagnostics import ProgressBar\n",
    "from collections import OrderedDict\n",
    "\n",
    "import seaborn as sb\n",
    "\n",
    "import matplotlib\n",
    "import matplotlib.pyplot as plt\n",
    "matplotlib.style.use('ggplot')\n",
    "\n",
    "from himatpy.LIS import utils as LISutils\n",
    "\n",
    "import cartopy.crs as ccrs\n",
    "from cartopy.mpl.ticker import LongitudeFormatter, LatitudeFormatter"
   ]
  },
  {
   "cell_type": "code",
   "execution_count": 7,
   "metadata": {},
   "outputs": [
    {
     "data": {
      "text/plain": [
       "'/mnt/d/UW_work/git/WBM_HiMAT/scratch_notebooks'"
      ]
     },
     "execution_count": 7,
     "metadata": {},
     "output_type": "execute_result"
    }
   ],
   "source": [
    "os.getcwd()"
   ]
  },
  {
   "cell_type": "code",
   "execution_count": 8,
   "metadata": {},
   "outputs": [],
   "source": [
    "data_dir = '/mnt/d/UW_work/git/WBM_HiMAT/scratch_notebooks/total_mass_wrong'"
   ]
  },
  {
   "cell_type": "code",
   "execution_count": null,
   "metadata": {},
   "outputs": [],
   "source": [
    "def process_lis_data(data_dir, nc_path, **kwargs)\n",
    "    \"\"\"\n",
    "    This function process LIS Data by breaking it up into yearly netcdf. Only certain variables are exported.\n",
    "    \n",
    "    Parameters\n",
    "    ----------\n",
    "    data_dir : String.\n",
    "        The location of the Raw LIS NetCDF Data\n",
    "    nc_path : String.\n",
    "        The location of the output NetCDF.\n",
    "    **kwargs: Other keyword arguments that works with get_xr_dataset\n",
    "    \n",
    "    Returns\n",
    "    -------\n",
    "    None\n",
    "    \"\"\"\n",
    "    # Open all files into a single xarray dataset\n",
    "    ds = get_xr_dataset(data_dir, fname=None, multiple_nc=True, chunks={'time': 1})\n",
    "    desiredds = ds[['Qsm_tavg','Rainf_tavg','Qs_tavg','Snowf_tavg','Qsb_tavg','Evap_tavg','TWS_tavg']]\n",
    "    \n",
    "    dt = pd.DatetimeIndex(desiredds.coords['time'].values)\n",
    "    year_starts = dt[dt.is_year_start]\n",
    "    year_ends = dt[dt.is_year_end]\n",
    "    yearslices = [(x,y) for x,y in zip(year_starts, year_ends)]\n",
    "    \n",
    "    if not os.path.exists(ncpath):\n",
    "        os.mkdir(ncpath)\n",
    "    \n",
    "    bar = progressbar.ProgressBar()\n",
    "    for ys, ye in bar(yearslices):\n",
    "        print('Processing {}...'.format(ys.year))\n",
    "        slicedds = desiredds.sel(time = slice(ys, ye))\n",
    "        procds = slicedds.apply(lambda x: process_da(x))\n",
    "        procds.to_netcdf(os.path.join(ncpath, 'LIS_{}.nc'.format(ys.year)))"
   ]
  },
  {
   "cell_type": "code",
   "execution_count": 9,
   "metadata": {},
   "outputs": [],
   "source": [
    "# Open all files into a single xarray dataset\n",
    "ds = xr.open_mfdataset('/mnt/d/UW_work/git/WBM_HiMAT/scratch_notebooks/total_mass_wrong/*.nc')"
   ]
  },
  {
   "cell_type": "code",
   "execution_count": 10,
   "metadata": {},
   "outputs": [
    {
     "data": {
      "text/plain": [
       "<xarray.Dataset>\n",
       "Dimensions:           (lat: 444, lon: 786, time: 132)\n",
       "Coordinates:\n",
       "  * lat               (lat) float64 7.45 7.55 7.65 7.75 7.85 7.95 8.05 8.15 ...\n",
       "  * lon               (lon) float64 56.55 56.65 56.75 56.85 56.95 57.05 ...\n",
       "  * time              (time) datetime64[ns] 2002-01-15 2002-02-15 2002-03-15 ...\n",
       "Data variables:\n",
       "    crs               (time) |S1 b'' b'' b'' b'' b'' b'' b'' b'' b'' b'' b'' ...\n",
       "    total_mass        (time, lat, lon) float32 dask.array<shape=(132, 444, 786), chunksize=(12, 444, 786)>\n",
       "    total_mass_sigma  (time, lat, lon) float32 dask.array<shape=(132, 444, 786), chunksize=(12, 444, 786)>\n",
       "Attributes:\n",
       "    System:          magma\n",
       "    source:          Unreferenced Data\n",
       "    history:         Created on 2018-06-27 by Alexander Proussevitch (alex.pr...\n",
       "    FilePath:        /net/nfs/squam/raid/data/WBM_TrANS/HiMAT/era_glaciers_v2...\n",
       "    NetCDF_version:  netCDF.3.5.1\n",
       "    Temporal_Res.:   monthly\n",
       "    references:      http://www.wsag.unh.edu\n",
       "    title:           Temporal aggregation of data\n",
       "    projection:      epsg:4326\n",
       "    Conventions:     CF-1.6\n",
       "    institution:     Water Systems Analysis Group (WSAG), the University of N..."
      ]
     },
     "execution_count": 10,
     "metadata": {},
     "output_type": "execute_result"
    }
   ],
   "source": [
    "ds"
   ]
  },
  {
   "cell_type": "code",
   "execution_count": 11,
   "metadata": {},
   "outputs": [
    {
     "name": "stdout",
     "output_type": "stream",
     "text": [
      "<xarray.DataArray 'total_mass_sigma' (time: 132, lat: 444, lon: 786)>\n",
      "dask.array<shape=(132, 444, 786), dtype=float32, chunksize=(12, 444, 786)>\n",
      "Coordinates:\n",
      "  * lat      (lat) float64 7.45 7.55 7.65 7.75 7.85 7.95 8.05 8.15 8.25 8.35 ...\n",
      "  * lon      (lon) float64 56.55 56.65 56.75 56.85 56.95 57.05 57.15 57.25 ...\n",
      "  * time     (time) datetime64[ns] 2002-01-15 2002-02-15 2002-03-15 ...\n",
      "Attributes:\n",
      "    format:        %.2f\n",
      "    long_name:     Sigma of Storage\n",
      "    grid_mapping:  crs\n",
      "    units:         mm\n"
     ]
    }
   ],
   "source": [
    "print(ds.total_mass_sigma)"
   ]
  },
  {
   "cell_type": "code",
   "execution_count": 12,
   "metadata": {
    "scrolled": true
   },
   "outputs": [
    {
     "data": {
      "text/plain": [
       "[<matplotlib.lines.Line2D at 0x7ffe78c81198>]"
      ]
     },
     "execution_count": 12,
     "metadata": {},
     "output_type": "execute_result"
    },
    {
     "data": {
      "image/png": "[encoded data removed]",
      "text/plain": [
       "<Figure size 432x288 with 1 Axes>"
      ]
     },
     "metadata": {},
     "output_type": "display_data"
    }
   ],
   "source": [
    "# average monthly total mass during 2002-\n",
    "ds.total_mass.groupby('time.month').mean().plot()"
   ]
  },
  {
   "cell_type": "code",
   "execution_count": 20,
   "metadata": {},
   "outputs": [
    {
     "data": {
      "image/png": "[encoded data removed]",
      "text/plain": [
       "<Figure size 432x288 with 1 Axes>"
      ]
     },
     "metadata": {},
     "output_type": "display_data"
    }
   ],
   "source": [
    "ds.total_mass.groupby('time').mean().plot()\n",
    "climate=ds.total_mass.groupby('time.month').mean('time')\n",
    "anol=ds.total_mass.groupby('time.month')-climate\n"
   ]
  },
  {
   "cell_type": "code",
   "execution_count": 22,
   "metadata": {},
   "outputs": [
    {
     "data": {
      "text/plain": [
       "(array([18627528.,        0.,        0.,        0.,        0.,        0.,\n",
       "               0.,        0.,        0., 24646488.]),\n",
       " array([-3.40282347e+38, -3.06254112e+38, -2.72225877e+38, -2.38197643e+38,\n",
       "        -2.04169408e+38, -1.70141173e+38, -1.36112939e+38, -1.02084704e+38,\n",
       "        -6.80564693e+37, -3.40282347e+37,  6.43040352e+04]),\n",
       " <a list of 10 Patch objects>)"
      ]
     },
     "execution_count": 22,
     "metadata": {},
     "output_type": "execute_result"
    },
    {
     "data": {
      "image/png": "[encoded data removed]",
      "text/plain": [
       "<Figure size 432x288 with 1 Axes>"
      ]
     },
     "metadata": {},
     "output_type": "display_data"
    }
   ],
   "source": [
    "time_slice = slice('2002-01-15', '2012-04-15')\n",
    "\n",
    "tm_siga = (\n",
    "    ds.total_mass_sigma\n",
    "    .sel(time=time_slice)\n",
    ")\n",
    "tm_siga.plot()"
   ]
  },
  {
   "cell_type": "code",
   "execution_count": 29,
   "metadata": {},
   "outputs": [
    {
     "data": {
      "text/plain": [
       "(array([19829304.,        0.,        0.,        0.,        0.,        0.,\n",
       "               0.,        0.,        0., 26236584.]),\n",
       " array([-3.40282347e+38, -3.06254112e+38, -2.72225877e+38, -2.38197643e+38,\n",
       "        -2.04169408e+38, -1.70141173e+38, -1.36112939e+38, -1.02084704e+38,\n",
       "        -6.80564693e+37, -3.40282347e+37,  6.43040352e+04]),\n",
       " <a list of 10 Patch objects>)"
      ]
     },
     "execution_count": 29,
     "metadata": {},
     "output_type": "execute_result"
    },
    {
     "data": {
      "image/png": "[encoded data removed]",
      "text/plain": [
       "<Figure size 432x288 with 1 Axes>"
      ]
     },
     "metadata": {},
     "output_type": "display_data"
    }
   ],
   "source": [
    "ds.total_mass_sigma.plot()"
   ]
  },
  {
   "cell_type": "code",
   "execution_count": 14,
   "metadata": {},
   "outputs": [],
   "source": [
    "desiredds = ds[['total_mass','total_mass_sigma']]"
   ]
  },
  {
   "cell_type": "code",
   "execution_count": 15,
   "metadata": {},
   "outputs": [],
   "source": [
    "import pandas as pd\n",
    "dt = pd.DatetimeIndex(desiredds.coords['time'].values)"
   ]
  },
  {
   "cell_type": "code",
   "execution_count": 40,
   "metadata": {},
   "outputs": [],
   "source": [
    "year_starts = dt[dt.is_year_start]"
   ]
  },
  {
   "cell_type": "code",
   "execution_count": 41,
   "metadata": {},
   "outputs": [],
   "source": [
    "year_ends = dt[dt.is_year_end]"
   ]
  },
  {
   "cell_type": "code",
   "execution_count": 42,
   "metadata": {},
   "outputs": [],
   "source": [
    "yearslices = [(x,y) for x,y in zip(year_starts, year_ends)]"
   ]
  },
  {
   "cell_type": "code",
   "execution_count": 43,
   "metadata": {},
   "outputs": [
    {
     "data": {
      "text/plain": [
       "[(Timestamp('2001-01-01 00:00:00'), Timestamp('2001-12-31 00:00:00')),\n",
       " (Timestamp('2002-01-01 00:00:00'), Timestamp('2002-12-31 00:00:00')),\n",
       " (Timestamp('2003-01-01 00:00:00'), Timestamp('2003-12-31 00:00:00')),\n",
       " (Timestamp('2004-01-01 00:00:00'), Timestamp('2004-12-31 00:00:00')),\n",
       " (Timestamp('2005-01-01 00:00:00'), Timestamp('2005-12-31 00:00:00')),\n",
       " (Timestamp('2006-01-01 00:00:00'), Timestamp('2006-12-31 00:00:00')),\n",
       " (Timestamp('2007-01-01 00:00:00'), Timestamp('2007-12-31 00:00:00')),\n",
       " (Timestamp('2008-01-01 00:00:00'), Timestamp('2008-12-31 00:00:00')),\n",
       " (Timestamp('2009-01-01 00:00:00'), Timestamp('2009-12-31 00:00:00')),\n",
       " (Timestamp('2010-01-01 00:00:00'), Timestamp('2010-12-31 00:00:00')),\n",
       " (Timestamp('2011-01-01 00:00:00'), Timestamp('2011-12-31 00:00:00')),\n",
       " (Timestamp('2012-01-01 00:00:00'), Timestamp('2012-12-31 00:00:00')),\n",
       " (Timestamp('2013-01-01 00:00:00'), Timestamp('2013-12-31 00:00:00')),\n",
       " (Timestamp('2014-01-01 00:00:00'), Timestamp('2014-12-31 00:00:00')),\n",
       " (Timestamp('2015-01-01 00:00:00'), Timestamp('2015-12-31 00:00:00')),\n",
       " (Timestamp('2016-01-01 00:00:00'), Timestamp('2016-12-31 00:00:00'))]"
      ]
     },
     "execution_count": 43,
     "metadata": {},
     "output_type": "execute_result"
    }
   ],
   "source": [
    "yearslices"
   ]
  },
  {
   "cell_type": "code",
   "execution_count": 60,
   "metadata": {},
   "outputs": [
    {
     "name": "stderr",
     "output_type": "stream",
     "text": [
      "ERROR:root:Internal Python error in the inspect module.\n",
      "Below is the traceback from this internal error.\n",
      "\n"
     ]
    },
    {
     "name": "stdout",
     "output_type": "stream",
     "text": [
      "Traceback (most recent call last):\n",
      "  File \"/home/lsetiawa/miniconda/envs/himat/lib/python3.6/site-packages/xarray/backends/api.py\", line 573, in to_netcdf\n",
      "    unlimited_dims=unlimited_dims)\n",
      "  File \"/home/lsetiawa/miniconda/envs/himat/lib/python3.6/site-packages/xarray/core/dataset.py\", line 918, in dump_to_store\n",
      "    store.sync()\n",
      "  File \"/home/lsetiawa/miniconda/envs/himat/lib/python3.6/site-packages/xarray/backends/netCDF4_.py\", line 336, in sync\n",
      "    super(NetCDF4DataStore, self).sync()\n",
      "  File \"/home/lsetiawa/miniconda/envs/himat/lib/python3.6/site-packages/xarray/backends/common.py\", line 202, in sync\n",
      "    self.writer.sync()\n",
      "  File \"/home/lsetiawa/miniconda/envs/himat/lib/python3.6/site-packages/xarray/backends/common.py\", line 179, in sync\n",
      "    da.store(self.sources, self.targets, lock=GLOBAL_LOCK)\n",
      "  File \"/home/lsetiawa/miniconda/envs/himat/lib/python3.6/site-packages/dask/array/core.py\", line 900, in store\n",
      "    Array._get(dsk, keys, **kwargs)\n",
      "  File \"/home/lsetiawa/miniconda/envs/himat/lib/python3.6/site-packages/dask/base.py\", line 106, in _get\n",
      "    return get(dsk2, keys, **kwargs)\n",
      "  File \"/home/lsetiawa/miniconda/envs/himat/lib/python3.6/site-packages/dask/threaded.py\", line 75, in get\n",
      "    pack_exception=pack_exception, **kwargs)\n",
      "  File \"/home/lsetiawa/miniconda/envs/himat/lib/python3.6/site-packages/dask/local.py\", line 512, in get_async\n",
      "    key, res_info, failed = queue_get(queue)\n",
      "  File \"/home/lsetiawa/miniconda/envs/himat/lib/python3.6/site-packages/dask/local.py\", line 151, in queue_get\n",
      "    return q.get()\n",
      "  File \"/home/lsetiawa/miniconda/envs/himat/lib/python3.6/queue.py\", line 164, in get\n",
      "    self.not_empty.wait()\n",
      "  File \"/home/lsetiawa/miniconda/envs/himat/lib/python3.6/threading.py\", line 295, in wait\n",
      "    waiter.acquire()\n",
      "KeyboardInterrupt\n",
      "\n",
      "During handling of the above exception, another exception occurred:\n",
      "\n",
      "Traceback (most recent call last):\n",
      "  File \"/home/lsetiawa/miniconda/envs/himat/lib/python3.6/site-packages/IPython/core/interactiveshell.py\", line 2910, in run_code\n",
      "    exec(code_obj, self.user_global_ns, self.user_ns)\n",
      "  File \"<ipython-input-60-92b1694a0369>\", line 7, in <module>\n",
      "    procds.to_netcdf(os.path.join(ncpath, 'LIS_{}.nc'.format(ys.year)))\n",
      "  File \"/home/lsetiawa/miniconda/envs/himat/lib/python3.6/site-packages/xarray/core/dataset.py\", line 977, in to_netcdf\n",
      "    unlimited_dims=unlimited_dims)\n",
      "  File \"/home/lsetiawa/miniconda/envs/himat/lib/python3.6/site-packages/xarray/backends/api.py\", line 578, in to_netcdf\n",
      "    store.close()\n",
      "  File \"/home/lsetiawa/miniconda/envs/himat/lib/python3.6/site-packages/xarray/backends/netCDF4_.py\", line 344, in close\n",
      "    ds.close()\n",
      "KeyboardInterrupt\n",
      "\n",
      "During handling of the above exception, another exception occurred:\n",
      "\n",
      "Traceback (most recent call last):\n",
      "  File \"/home/lsetiawa/miniconda/envs/himat/lib/python3.6/site-packages/IPython/core/interactiveshell.py\", line 1828, in showtraceback\n",
      "    stb = value._render_traceback_()\n",
      "AttributeError: 'KeyboardInterrupt' object has no attribute '_render_traceback_'\n",
      "\n",
      "During handling of the above exception, another exception occurred:\n",
      "\n",
      "Traceback (most recent call last):\n",
      "  File \"/home/lsetiawa/miniconda/envs/himat/lib/python3.6/site-packages/IPython/core/ultratb.py\", line 1090, in get_records\n",
      "    return _fixed_getinnerframes(etb, number_of_lines_of_context, tb_offset)\n",
      "  File \"/home/lsetiawa/miniconda/envs/himat/lib/python3.6/site-packages/IPython/core/ultratb.py\", line 311, in wrapped\n",
      "    return f(*args, **kwargs)\n",
      "  File \"/home/lsetiawa/miniconda/envs/himat/lib/python3.6/site-packages/IPython/core/ultratb.py\", line 345, in _fixed_getinnerframes\n",
      "    records = fix_frame_records_filenames(inspect.getinnerframes(etb, context))\n",
      "  File \"/home/lsetiawa/miniconda/envs/himat/lib/python3.6/inspect.py\", line 1480, in getinnerframes\n",
      "    frameinfo = (tb.tb_frame,) + getframeinfo(tb, context)\n",
      "  File \"/home/lsetiawa/miniconda/envs/himat/lib/python3.6/inspect.py\", line 1438, in getframeinfo\n",
      "    filename = getsourcefile(frame) or getfile(frame)\n",
      "  File \"/home/lsetiawa/miniconda/envs/himat/lib/python3.6/inspect.py\", line 693, in getsourcefile\n",
      "    if getattr(getmodule(object, filename), '__loader__', None) is not None:\n",
      "  File \"/home/lsetiawa/miniconda/envs/himat/lib/python3.6/inspect.py\", line 730, in getmodule\n",
      "    if ismodule(module) and hasattr(module, '__file__'):\n",
      "KeyboardInterrupt\n"
     ]
    },
    {
     "name": "stderr",
     "output_type": "stream",
     "text": [
      "\n",
      "KeyboardInterrupt\n",
      "\n"
     ]
    }
   ],
   "source": [
    "ncpath = '/att/nobackup/lsetiawa/LISYear/'\n",
    "if not os.path.exists(ncpath):\n",
    "    os.mkdir(ncpath)\n",
    "for ys, ye in yearslices:\n",
    "    slicedds = desiredds.sel(time = slice(ys, ye))\n",
    "    procds = slicedds.apply(lambda x: process_da(x))\n",
    "    procds.to_netcdf(os.path.join(ncpath, 'LIS_{}.nc'.format(ys.year)))"
   ]
  },
  {
   "cell_type": "code",
   "execution_count": 51,
   "metadata": {},
   "outputs": [],
   "source": [
    "slicedds = desiredds.sel(time = slice(yearslices[0][0], yearslices[0][1]))"
   ]
  },
  {
   "cell_type": "code",
   "execution_count": 58,
   "metadata": {},
   "outputs": [
    {
     "data": {
      "text/plain": [
       "<xarray.Dataset>\n",
       "Dimensions:     (east_west: 1896, north_south: 1696, time: 365)\n",
       "Coordinates:\n",
       "  * time        (time) datetime64[ns] 2001-01-01 2001-01-02 2001-01-03 ...\n",
       "    latitude    (north_south, east_west) float64 22.02 22.02 22.02 22.02 ...\n",
       "    longitude   (north_south, east_west) float64 66.03 66.04 66.05 66.06 ...\n",
       "Dimensions without coordinates: east_west, north_south\n",
       "Data variables:\n",
       "    Qsm_tavg    (time, north_south, east_west) float64 nan nan nan nan nan ...\n",
       "    Rainf_tavg  (time, north_south, east_west) float64 nan nan nan nan nan ...\n",
       "    Qs_tavg     (time, north_south, east_west) float64 nan nan nan nan nan ...\n",
       "    Snowf_tavg  (time, north_south, east_west) float64 nan nan nan nan nan ...\n",
       "    Qsb_tavg    (time, north_south, east_west) float64 nan nan nan nan nan ...\n",
       "    Evap_tavg   (time, north_south, east_west) float64 nan nan nan nan nan ...\n",
       "    TWS_tavg    (time, north_south, east_west) float64 nan nan nan nan nan ..."
      ]
     },
     "execution_count": 58,
     "metadata": {},
     "output_type": "execute_result"
    }
   ],
   "source": [
    "slicedds.apply(lambda x: process_da(x))"
   ]
  },
  {
   "cell_type": "code",
   "execution_count": 56,
   "metadata": {},
   "outputs": [],
   "source": [
    "def process_da(da):\n",
    "    # attributes for the first 6 variables:\n",
    "    text = 'Daily {variable} in units of mm we'.format\n",
    "\n",
    "    # attributes for the TWS:\n",
    "    \n",
    "    new_attrs = OrderedDict()\n",
    "    for k, v in da.attrs.items():\n",
    "        new_attrs.update({k:v})\n",
    "    new_attrs.update({'units': 'mm we'})\n",
    "    \n",
    "    if da.attrs['standard_name'] == 'terrestrial_water_storage':\n",
    "        new_attrs.update({'long_name': 'Daily change in water storage'})\n",
    "        multda = da\n",
    "    else:\n",
    "        new_attrs.update({'long_name': text(variable=da.attrs['standard_name'])})\n",
    "        multda = da * 864000\n",
    "    \n",
    "    multda.attrs = new_attrs\n",
    "    \n",
    "    return multda"
   ]
  },
  {
   "cell_type": "code",
   "execution_count": null,
   "metadata": {},
   "outputs": [],
   "source": [
    "get_monthly_avg(ds, des_vars, export_nc=False, out_pth=None):"
   ]
  },
  {
   "cell_type": "code",
   "execution_count": null,
   "metadata": {},
   "outputs": [],
   "source": [
    "## NEXT calculate monthly sums, e.g.:\n",
    "\n",
    "with ProgressBar():\n",
    "    TWS_monthly = ds['TWS_tavg'].resample('MS', 'time', how = 'sum')\n",
    "\n",
    "# attributes for the first 6 variables:\n",
    "\n",
    "{'Cumulative monthly <snowmelt> in units of mm we','Cumulative monthly ....'}\n",
    "\n",
    "# attributes for TWS:\n",
    "\n",
    "{'Change in monthly water storage'}\n",
    "       \n",
    "# then concatenate all into a single netcdf and serialize to /att/nobackup/aarendt    \n",
    "    \n",
    "        "
   ]
  }
 ],
 "metadata": {
  "kernelspec": {
   "display_name": "Python 3",
   "language": "python",
   "name": "python3"
  },
  "language_info": {
   "codemirror_mode": {
    "name": "ipython",
    "version": 3
   },
   "file_extension": ".py",
   "mimetype": "text/x-python",
   "name": "python",
   "nbconvert_exporter": "python",
   "pygments_lexer": "ipython3",
   "version": "3.6.6"
  }
 },
 "nbformat": 4,
 "nbformat_minor": 2
}
