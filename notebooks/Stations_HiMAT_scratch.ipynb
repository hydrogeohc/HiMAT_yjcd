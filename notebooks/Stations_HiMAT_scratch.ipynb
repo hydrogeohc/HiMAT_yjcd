{
 "cells": [
  {
   "cell_type": "code",
   "execution_count": 1,
   "metadata": {},
   "outputs": [],
   "source": [
    "%matplotlib inline\n",
    "import os\n",
    "import glob\n",
    "\n",
    "import pandas as pd\n",
    "import geopandas as gpd\n",
    "\n",
    "import folium\n",
    "from folium.plugins import MarkerCluster\n",
    "from shapely.geometry import Point"
   ]
  },
  {
   "cell_type": "code",
   "execution_count": 2,
   "metadata": {},
   "outputs": [],
   "source": [
    "datadir = '../data/DHM_data/'"
   ]
  },
  {
   "cell_type": "code",
   "execution_count": 3,
   "metadata": {},
   "outputs": [],
   "source": [
    "def convert2dd(*args):\n",
    "    return args[0] + args[1]/60 + args[2]/3600"
   ]
  },
  {
   "cell_type": "code",
   "execution_count": 4,
   "metadata": {},
   "outputs": [],
   "source": [
    "def convert2ddmet(*args):\n",
    "    return args[0] + args[1]/60"
   ]
  },
  {
   "cell_type": "code",
   "execution_count": 5,
   "metadata": {},
   "outputs": [],
   "source": [
    "def create_popup(feat):\n",
    "    text = '<b>{key}</b>: {val}'.format\n",
    "    text_list = [text(key=k, val=v) for k, v in feat.to_dict().items()]\n",
    "    \n",
    "    return '<p>{}</p>'.format('<br>'.join(text_list))"
   ]
  },
  {
   "cell_type": "code",
   "execution_count": 6,
   "metadata": {},
   "outputs": [],
   "source": [
    "center = [28.06476680384088, 83.96989711934157]"
   ]
  },
  {
   "cell_type": "code",
   "execution_count": 7,
   "metadata": {},
   "outputs": [],
   "source": [
    "m = folium.Map(location=center, zoom_start=5, tiles=\"cartodbpositron\")"
   ]
  },
  {
   "cell_type": "markdown",
   "metadata": {},
   "source": [
    "## Hydro"
   ]
  },
  {
   "cell_type": "code",
   "execution_count": 8,
   "metadata": {},
   "outputs": [],
   "source": [
    "xlsx = os.path.join(datadir, 'Hydrological Stations List_01222018.xlsx')"
   ]
  },
  {
   "cell_type": "code",
   "execution_count": 9,
   "metadata": {},
   "outputs": [],
   "source": [
    "rawdf = pd.read_excel(xlsx, sheet_name=1, skip_footer=4)"
   ]
  },
  {
   "cell_type": "code",
   "execution_count": 10,
   "metadata": {},
   "outputs": [],
   "source": [
    "rawdf.loc[0:60, 'priority'] = 'high'"
   ]
  },
  {
   "cell_type": "code",
   "execution_count": 11,
   "metadata": {},
   "outputs": [],
   "source": [
    "rawdf.loc[61:, 'priority'] = 'low'"
   ]
  },
  {
   "cell_type": "code",
   "execution_count": 12,
   "metadata": {},
   "outputs": [],
   "source": [
    "df = rawdf.drop(61).reset_index(drop='index')"
   ]
  },
  {
   "cell_type": "code",
   "execution_count": 13,
   "metadata": {},
   "outputs": [],
   "source": [
    "df.loc[:, 'lat'] = df.apply(lambda row: convert2dd(*tuple(map(lambda x: int(x), row['Latitude\\n(ON)'].split(' ')))), axis=1)"
   ]
  },
  {
   "cell_type": "code",
   "execution_count": 14,
   "metadata": {},
   "outputs": [],
   "source": [
    "df.loc[:, 'lon'] = df.apply(lambda row: convert2dd(*tuple(map(lambda x: int(x), row['Longitude\\n(OE)'].split(' ')))), axis=1)"
   ]
  },
  {
   "cell_type": "code",
   "execution_count": 15,
   "metadata": {},
   "outputs": [],
   "source": [
    "geometry = [Point(xy) for xy in zip(df['lon'], df['lat'])]"
   ]
  },
  {
   "cell_type": "code",
   "execution_count": 16,
   "metadata": {},
   "outputs": [],
   "source": [
    "gdf = gpd.GeoDataFrame(df, geometry=geometry, crs={'init': 'epsg:4326'})"
   ]
  },
  {
   "cell_type": "code",
   "execution_count": 51,
   "metadata": {},
   "outputs": [],
   "source": [
    "gdf.to_csv(os.path.join('../data/', 'hydro_stations.csv'), index=False)"
   ]
  },
  {
   "cell_type": "code",
   "execution_count": 17,
   "metadata": {},
   "outputs": [],
   "source": [
    "hydro_stations = MarkerCluster(name='Hydrological Stations DHM')"
   ]
  },
  {
   "cell_type": "code",
   "execution_count": 18,
   "metadata": {},
   "outputs": [],
   "source": [
    "for idx, feature in gdf.iterrows():\n",
    "    if feature['priority'] == 'high':\n",
    "        folium.Marker(location=[feature.geometry.y, feature.geometry.x], \n",
    "                      icon=folium.Icon(color='red', icon='tint'),\n",
    "                      popup=create_popup(feature)).add_to(hydro_stations)\n",
    "    if feature['priority'] == 'low':\n",
    "        folium.Marker(location=[feature.geometry.y, feature.geometry.x], \n",
    "                      icon=folium.Icon(color='blue', icon='tint'),\n",
    "                      popup=create_popup(feature)).add_to(hydro_stations)"
   ]
  },
  {
   "cell_type": "code",
   "execution_count": 19,
   "metadata": {},
   "outputs": [
    {
     "data": {
      "text/plain": [
       "<folium.plugins.marker_cluster.MarkerCluster at 0x7f489f16d4e0>"
      ]
     },
     "execution_count": 19,
     "metadata": {},
     "output_type": "execute_result"
    }
   ],
   "source": [
    "hydro_stations.add_to(m)"
   ]
  },
  {
   "cell_type": "markdown",
   "metadata": {},
   "source": [
    "## Meteorological"
   ]
  },
  {
   "cell_type": "code",
   "execution_count": 20,
   "metadata": {},
   "outputs": [],
   "source": [
    "mxlsx = os.path.join(datadir, 'Meteorological Stations List_01222018.xlsx')"
   ]
  },
  {
   "cell_type": "code",
   "execution_count": 21,
   "metadata": {},
   "outputs": [],
   "source": [
    "mrawdf = pd.read_excel(mxlsx, header=0, skip_footer=5)"
   ]
  },
  {
   "cell_type": "code",
   "execution_count": 22,
   "metadata": {},
   "outputs": [],
   "source": [
    "fmrawdf = mrawdf[['S. N.', 'DHM S.N.', 'Station name', 'Index No.', 'Basin Office',\n",
    "       'Type of station', 'District', 'Lat.', 'Log.', 'Ele.', 'Data Type', \n",
    "        'From', 'To', 'No. of Years', 'Frequency']]"
   ]
  },
  {
   "cell_type": "code",
   "execution_count": 23,
   "metadata": {},
   "outputs": [
    {
     "name": "stderr",
     "output_type": "stream",
     "text": [
      "/home/lsetiawan/Miniconda/envs/himat/lib/python3.6/site-packages/pandas/core/indexing.py:357: SettingWithCopyWarning: \n",
      "A value is trying to be set on a copy of a slice from a DataFrame.\n",
      "Try using .loc[row_indexer,col_indexer] = value instead\n",
      "\n",
      "See the caveats in the documentation: http://pandas.pydata.org/pandas-docs/stable/indexing.html#indexing-view-versus-copy\n",
      "  self.obj[key] = _infer_fill_value(value)\n",
      "/home/lsetiawan/Miniconda/envs/himat/lib/python3.6/site-packages/pandas/core/indexing.py:537: SettingWithCopyWarning: \n",
      "A value is trying to be set on a copy of a slice from a DataFrame.\n",
      "Try using .loc[row_indexer,col_indexer] = value instead\n",
      "\n",
      "See the caveats in the documentation: http://pandas.pydata.org/pandas-docs/stable/indexing.html#indexing-view-versus-copy\n",
      "  self.obj[item] = s\n"
     ]
    }
   ],
   "source": [
    "fmrawdf.loc[0:198, 'priority'] = 'high'"
   ]
  },
  {
   "cell_type": "code",
   "execution_count": 24,
   "metadata": {},
   "outputs": [
    {
     "name": "stderr",
     "output_type": "stream",
     "text": [
      "/home/lsetiawan/Miniconda/envs/himat/lib/python3.6/site-packages/pandas/core/indexing.py:537: SettingWithCopyWarning: \n",
      "A value is trying to be set on a copy of a slice from a DataFrame.\n",
      "Try using .loc[row_indexer,col_indexer] = value instead\n",
      "\n",
      "See the caveats in the documentation: http://pandas.pydata.org/pandas-docs/stable/indexing.html#indexing-view-versus-copy\n",
      "  self.obj[item] = s\n"
     ]
    }
   ],
   "source": [
    "fmrawdf.loc[201:, 'priority'] = 'low'"
   ]
  },
  {
   "cell_type": "code",
   "execution_count": 25,
   "metadata": {},
   "outputs": [],
   "source": [
    "mdf = fmrawdf.drop([0, 199, 200]).reset_index(drop='index')"
   ]
  },
  {
   "cell_type": "code",
   "execution_count": 26,
   "metadata": {},
   "outputs": [],
   "source": [
    "mdf.loc[:, 'lat'] = mdf.apply(lambda row: convert2ddmet(int(str(int(row['Lat.']))[:-2]), int(str(int(row['Lat.']))[-2:])), axis=1)"
   ]
  },
  {
   "cell_type": "code",
   "execution_count": 27,
   "metadata": {},
   "outputs": [],
   "source": [
    "mdf.loc[:, 'lon'] = mdf.apply(lambda row: convert2ddmet(int(str(int(row['Log.']))[:-2]), int(str(int(row['Log.']))[-2:])), axis=1)"
   ]
  },
  {
   "cell_type": "code",
   "execution_count": 28,
   "metadata": {},
   "outputs": [],
   "source": [
    "mgeometry = [Point(xy) for xy in zip(mdf['lon'], mdf['lat'])]"
   ]
  },
  {
   "cell_type": "code",
   "execution_count": 29,
   "metadata": {},
   "outputs": [],
   "source": [
    "mgdf = gpd.GeoDataFrame(mdf, geometry=mgeometry, crs={'init': 'epsg:4326'})"
   ]
  },
  {
   "cell_type": "code",
   "execution_count": 49,
   "metadata": {},
   "outputs": [],
   "source": [
    "mgdf.to_csv(os.path.join('../data/', 'met_stations_existing.csv'), index=False)"
   ]
  },
  {
   "cell_type": "code",
   "execution_count": 30,
   "metadata": {},
   "outputs": [],
   "source": [
    "met_stations = MarkerCluster(name='Meteorological Stations DHM')"
   ]
  },
  {
   "cell_type": "code",
   "execution_count": 31,
   "metadata": {},
   "outputs": [],
   "source": [
    "for idx, feature in mgdf.iterrows():\n",
    "    if feature['priority'] == 'high':\n",
    "        folium.Marker(location=[feature.geometry.y, feature.geometry.x], \n",
    "                      icon=folium.Icon(color='red', icon='cloud'),\n",
    "                      popup=create_popup(feature)).add_to(met_stations)\n",
    "    if feature['priority'] == 'low':\n",
    "        folium.Marker(location=[feature.geometry.y, feature.geometry.x], \n",
    "                      icon=folium.Icon(color='blue', icon='cloud'),\n",
    "                      popup=create_popup(feature)).add_to(met_stations)"
   ]
  },
  {
   "cell_type": "markdown",
   "metadata": {},
   "source": [
    "## Met (Closed)"
   ]
  },
  {
   "cell_type": "code",
   "execution_count": 32,
   "metadata": {},
   "outputs": [],
   "source": [
    "clsd = pd.read_excel(mxlsx, sheet_name=1, header=2)"
   ]
  },
  {
   "cell_type": "code",
   "execution_count": 33,
   "metadata": {},
   "outputs": [
    {
     "data": {
      "text/plain": [
       "Index(['S.N.', 'Station name', 'Index No.', 'Unnamed: 3', 'Type of station',\n",
       "       'District', 'Lat.', 'Log.', 'Ele.', 'Ag.Estd', 'NMS Estd.',\n",
       "       'Unnamed: 11', 'Ag.Clsd.', 'NMS Clsd.', 'Remarks', 'Remark1'],\n",
       "      dtype='object')"
      ]
     },
     "execution_count": 33,
     "metadata": {},
     "output_type": "execute_result"
    }
   ],
   "source": [
    "clsd.columns"
   ]
  },
  {
   "cell_type": "code",
   "execution_count": 34,
   "metadata": {},
   "outputs": [],
   "source": [
    "clsddf = clsd[['S.N.', 'Station name', 'Index No.', 'Type of station', 'Lat.', 'Log.', 'Ele.']].drop([0, 81]).reset_index()"
   ]
  },
  {
   "cell_type": "code",
   "execution_count": 35,
   "metadata": {},
   "outputs": [],
   "source": [
    "clsddf.loc[:, 'lat'] = clsddf.apply(lambda row: convert2ddmet(int(str(int(row['Lat.']))[:-2]), int(str(int(row['Lat.']))[-2:])), axis=1)"
   ]
  },
  {
   "cell_type": "code",
   "execution_count": 36,
   "metadata": {},
   "outputs": [],
   "source": [
    "clsddf.loc[:, 'lon'] = clsddf.apply(lambda row: convert2ddmet(int(str(int(row['Log.']))[:-2]), int(str(int(row['Log.']))[-2:])), axis=1)"
   ]
  },
  {
   "cell_type": "code",
   "execution_count": 37,
   "metadata": {},
   "outputs": [],
   "source": [
    "clsdgdf = gpd.GeoDataFrame(clsddf, geometry=[Point(xy) for xy in zip(clsddf['lon'], clsddf['lat'])], crs={'init': 'epsg:4326'})"
   ]
  },
  {
   "cell_type": "code",
   "execution_count": 50,
   "metadata": {},
   "outputs": [],
   "source": [
    "clsdgdf.to_csv(os.path.join('../data/', 'met_stations_closed.csv'), index=False)"
   ]
  },
  {
   "cell_type": "code",
   "execution_count": 38,
   "metadata": {},
   "outputs": [],
   "source": [
    "for idx, feature in clsdgdf.iterrows():\n",
    "    folium.Marker(location=[feature.geometry.y, feature.geometry.x], \n",
    "                  icon=folium.Icon(color='gray', icon='cloud'),\n",
    "                  popup=create_popup(feature)).add_to(met_stations)"
   ]
  },
  {
   "cell_type": "code",
   "execution_count": 39,
   "metadata": {},
   "outputs": [
    {
     "data": {
      "text/plain": [
       "<folium.plugins.marker_cluster.MarkerCluster at 0x7f489eca9da0>"
      ]
     },
     "execution_count": 39,
     "metadata": {},
     "output_type": "execute_result"
    }
   ],
   "source": [
    "met_stations.add_to(m)"
   ]
  },
  {
   "cell_type": "markdown",
   "metadata": {},
   "source": [
    "## IMD"
   ]
  },
  {
   "cell_type": "code",
   "execution_count": 40,
   "metadata": {},
   "outputs": [],
   "source": [
    "imddir = '../data/IMD_data/Shapefiles/'"
   ]
  },
  {
   "cell_type": "code",
   "execution_count": 41,
   "metadata": {},
   "outputs": [],
   "source": [
    "shplist = glob.glob(os.path.join(imddir, '*.shp'))"
   ]
  },
  {
   "cell_type": "code",
   "execution_count": 42,
   "metadata": {},
   "outputs": [],
   "source": [
    "def create_feat_group(shp):\n",
    "    fname = os.path.basename(shp)[:-4]\n",
    "    imdgdf = gpd.GeoDataFrame.from_file(shp)\n",
    "    imd_stations = MarkerCluster(name=fname)\n",
    "    icon = 'tint'\n",
    "    if 'AWS' in fname:\n",
    "        icon = 'cloud'\n",
    "    for idx, feature in imdgdf.iterrows():\n",
    "        folium.Marker(location=[feature.geometry.y, feature.geometry.x], \n",
    "                      icon=folium.Icon(color='purple', icon=icon),\n",
    "                      popup=create_popup(feature)).add_to(imd_stations)\n",
    "    return imd_stations"
   ]
  },
  {
   "cell_type": "code",
   "execution_count": 43,
   "metadata": {},
   "outputs": [
    {
     "data": {
      "text/plain": [
       "['../data/IMD_data/Shapefiles/RaingaugeIMD.shp',\n",
       " '../data/IMD_data/Shapefiles/AWSIMD.shp']"
      ]
     },
     "execution_count": 43,
     "metadata": {},
     "output_type": "execute_result"
    }
   ],
   "source": [
    "shplist"
   ]
  },
  {
   "cell_type": "code",
   "execution_count": 44,
   "metadata": {},
   "outputs": [],
   "source": [
    "for shp in shplist:\n",
    "    create_feat_group(shp).add_to(m)"
   ]
  },
  {
   "cell_type": "code",
   "execution_count": 45,
   "metadata": {},
   "outputs": [
    {
     "data": {
      "text/plain": [
       "<folium.map.LayerControl at 0x7f489e3839b0>"
      ]
     },
     "execution_count": 45,
     "metadata": {},
     "output_type": "execute_result"
    }
   ],
   "source": [
    "folium.LayerControl().add_to(m)"
   ]
  },
  {
   "cell_type": "code",
   "execution_count": 46,
   "metadata": {},
   "outputs": [],
   "source": [
    "m.save('../data/HiMATStations.html')"
   ]
  },
  {
   "cell_type": "code",
   "execution_count": null,
   "metadata": {},
   "outputs": [],
   "source": []
  }
 ],
 "metadata": {
  "kernelspec": {
   "display_name": "Python [conda env:himat]",
   "language": "python",
   "name": "conda-env-himat-py"
  },
  "language_info": {
   "codemirror_mode": {
    "name": "ipython",
    "version": 3
   },
   "file_extension": ".py",
   "mimetype": "text/x-python",
   "name": "python",
   "nbconvert_exporter": "python",
   "pygments_lexer": "ipython3",
   "version": "3.6.3"
  }
 },
 "nbformat": 4,
 "nbformat_minor": 2
}
