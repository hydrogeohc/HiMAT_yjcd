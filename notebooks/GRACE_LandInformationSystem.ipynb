{
 "cells": [
  {
   "cell_type": "markdown",
   "metadata": {},
   "source": [
    "# Working with GRACE to build a mask and calculate water balance\n",
    "\n",
    "by Anthony Arendt and Landung Setiawan\n",
    "\n",
    "Datasets:\n",
    "- GRACE: https://ssed.gsfc.nasa.gov/grace/products.html\n",
    "- LIS: https://github.com/NASA-Planetary-Science/HiMAT/tree/master/Projects/LIS\n",
    "\n",
    "This is a continuation to the LIS Dataset processing workflow. [<<](../LIS/)\n",
    "\n",
    "This code is designed to access files directly on the NASA ADAPT system"
   ]
  },
  {
   "cell_type": "code",
   "execution_count": 1,
   "metadata": {},
   "outputs": [
    {
     "name": "stderr",
     "output_type": "stream",
     "text": [
      "/opt/conda/lib/python3.6/importlib/_bootstrap.py:219: RuntimeWarning: numpy.dtype size changed, may indicate binary incompatibility. Expected 96, got 88\n",
      "  return f(*args, **kwds)\n",
      "/opt/conda/lib/python3.6/importlib/_bootstrap.py:219: RuntimeWarning: numpy.dtype size changed, may indicate binary incompatibility. Expected 96, got 88\n",
      "  return f(*args, **kwds)\n",
      "/opt/conda/lib/python3.6/importlib/_bootstrap.py:219: RuntimeWarning: numpy.dtype size changed, may indicate binary incompatibility. Expected 96, got 88\n",
      "  return f(*args, **kwds)\n",
      "/opt/conda/lib/python3.6/importlib/_bootstrap.py:219: RuntimeWarning: numpy.dtype size changed, may indicate binary incompatibility. Expected 96, got 88\n",
      "  return f(*args, **kwds)\n"
     ]
    }
   ],
   "source": [
    "# Import the necessary libraries\n",
    "%matplotlib inline\n",
    "\n",
    "import os\n",
    "import pickle\n",
    "\n",
    "from dask import compute\n",
    "from distributed import Client\n",
    "from himatpy.GRACE_MASCON.pygrace import (extract_grace, get_mascon_gdf, get_cmwe_trend_analysis, build_mask, select_mascons, aggregate_mascons)\n",
    "from himatpy.LIS import utils\n",
    "from himatpy.tools import animation_tools\n",
    "import geopandas as gpd\n",
    "import matplotlib\n",
    "import matplotlib.pyplot as plt\n",
    "import numpy as np\n",
    "import pandas as pd\n",
    "import s3fs\n",
    "import xarray as xr\n",
    "import zarr\n",
    "\n",
    "matplotlib.style.use('ggplot')"
   ]
  },
  {
   "cell_type": "markdown",
   "metadata": {},
   "source": [
    "## Get GRACE Data"
   ]
  },
  {
   "cell_type": "code",
   "execution_count": 2,
   "metadata": {
    "scrolled": true
   },
   "outputs": [
    {
     "name": "stdout",
     "output_type": "stream",
     "text": [
      "Data extracted: \n",
      "---\n",
      "Group: mascon\n",
      "---\n",
      "<HDF5 dataset \"area_deg\": shape (1, 41168), type \"<f8\">\n",
      "<HDF5 dataset \"area_km2\": shape (1, 41168), type \"<f8\">\n",
      "<HDF5 dataset \"basin\": shape (1, 41168), type \"<f8\">\n",
      "<HDF5 dataset \"elev_flag\": shape (1, 41168), type \"<f8\">\n",
      "<HDF5 dataset \"lat_center\": shape (1, 41168), type \"<f8\">\n",
      "<HDF5 dataset \"lat_span\": shape (1, 41168), type \"<f8\">\n",
      "<HDF5 dataset \"location\": shape (1, 41168), type \"<f8\">\n",
      "<HDF5 dataset \"lon_center\": shape (1, 41168), type \"<f8\">\n",
      "<HDF5 dataset \"lon_span\": shape (1, 41168), type \"<f8\">\n",
      "---\n",
      "Group: size\n",
      "---\n",
      "<HDF5 dataset \"N_arcs\": shape (1, 1), type \"<f8\">\n",
      "<HDF5 dataset \"N_mascon_times\": shape (1, 1), type \"<f8\">\n",
      "<HDF5 dataset \"N_mascons\": shape (1, 1), type \"<f8\">\n",
      "---\n",
      "Group: solution\n",
      "---\n",
      "<HDF5 dataset \"cmwe\": shape (41168, 148), type \"<f8\">\n",
      "---\n",
      "Group: time\n",
      "---\n",
      "<HDF5 dataset \"list_ref_days_solution\": shape (1, 4128), type \"<f8\">\n",
      "<HDF5 dataset \"n_ref_days_solution\": shape (1, 148), type \"<f8\">\n",
      "<HDF5 dataset \"n_ref_days_window\": shape (1, 148), type \"<f8\">\n",
      "<HDF5 dataset \"ref_days_first\": shape (1, 148), type \"<f8\">\n",
      "<HDF5 dataset \"ref_days_last\": shape (1, 148), type \"<f8\">\n",
      "<HDF5 dataset \"ref_days_middle\": shape (1, 148), type \"<f8\">\n",
      "<HDF5 dataset \"yyyy_doy_yrplot_middle\": shape (3, 148), type \"<f8\">\n",
      "---\n",
      "Group: uncertainty\n",
      "---\n",
      "<HDF5 dataset \"leakage_2sigma\": shape (41168, 148), type \"<f8\">\n",
      "<HDF5 dataset \"leakage_trend\": shape (41168, 148), type \"<f8\">\n",
      "<HDF5 dataset \"noise_2sigma\": shape (41168, 148), type \"<f8\">\n"
     ]
    }
   ],
   "source": [
    "# Read in mascon file\n",
    "grace_file = os.path.abspath('GSFC.h5')\n",
    "\n",
    "# Errors should be handled in extract_grace\n",
    "f = extract_grace(grace_file)"
   ]
  },
  {
   "cell_type": "code",
   "execution_count": 3,
   "metadata": {},
   "outputs": [],
   "source": [
    "mascon = f['mascon']\n",
    "soln = f['solution']\n",
    "time = f['time']"
   ]
  },
  {
   "cell_type": "code",
   "execution_count": 4,
   "metadata": {},
   "outputs": [
    {
     "name": "stdout",
     "output_type": "stream",
     "text": [
      "There are 41168 Mascons in this dataset.\n"
     ]
    }
   ],
   "source": [
    "# Get mascon gdf\n",
    "mascon_gdf = get_mascon_gdf(mascon)\n",
    "\n",
    "# we need to track mascon numbers later, which we get from the index, so make a new \"mascon\" column\n",
    "mascon_gdf['mascon'] = mascon_gdf.index"
   ]
  },
  {
   "cell_type": "code",
   "execution_count": 5,
   "metadata": {},
   "outputs": [],
   "source": [
    "# Filter only mascon within HMA geographical areas\n",
    "HMA = mascon_gdf[(mascon_gdf['location'] == 80.0) & ((mascon_gdf['basin'] > 5000.0) & (mascon_gdf['basin'] < 6100.0))]"
   ]
  },
  {
   "cell_type": "markdown",
   "metadata": {},
   "source": [
    "## Retrieve NASA Land Information System (LIS) Dataset"
   ]
  },
  {
   "cell_type": "code",
   "execution_count": 6,
   "metadata": {},
   "outputs": [],
   "source": [
    "# Open Zarr Store\n",
    "fs = s3fs.S3FileSystem()\n",
    "store = s3fs.S3Map(root='himat-data/store', s3=fs, check=False)\n",
    "ds = xr.open_zarr(store)"
   ]
  },
  {
   "cell_type": "code",
   "execution_count": 7,
   "metadata": {},
   "outputs": [],
   "source": [
    "# Connect to Dask Scheduler\n",
    "client = Client('dask-scheduler:8786')"
   ]
  },
  {
   "cell_type": "code",
   "execution_count": 8,
   "metadata": {},
   "outputs": [],
   "source": [
    "# def __aggregate_mascon(geo, product):\n",
    "#     sel = ds[product].sel(long=slice(geo[0], geo[2]), lat=slice(geo[1], geo[3]))\n",
    "#     agg_data = sel.mean(axis=(1,2)).data\n",
    "#     return agg_data\n",
    "\n",
    "# def select_mascons(ds, mascon_gdf):\n",
    "#     x_min, x_max, y_min, y_max = ds.long[0].values, ds.long[-1].values, ds.lat[0].values, ds.lat[-1].values\n",
    "#     masked_gdf = mascon_gdf.cx[x_min:x_max,y_min:y_max].copy()\n",
    "#     return masked_gdf\n",
    "\n",
    "# def aggregate_mascons(ds, masked_gdf, scale_factor = 1):\n",
    "#     # Array coordinates\n",
    "#     products = [x for x in ds.data_vars]\n",
    "#     time_coords = ds['time'].values\n",
    "#     mascon_coords = masked_gdf['mascon']\n",
    "#     # Get mascon geometries\n",
    "#     mascon_geos = [x.bounds for x in masked_gdf['geometry']]\n",
    "#     # Compute aggregation\n",
    "#     agg_list = compute(*[[__aggregate_mascon(geo, product) for geo in mascon_geos] for product in products])\n",
    "#     # Reshape aggregations and scale\n",
    "#     agg_flat = np.concatenate([np.concatenate(x) for x in agg_list])\n",
    "#     agg_arr = agg_flat.reshape(len(products), len(mascon_coords), len(time_coords))\n",
    "#     agg_arr *= scale_factor\n",
    "#     # Add coordinate data\n",
    "#     agg_data = {\n",
    "#         'data':  agg_arr,\n",
    "#         'time': np.asarray(time_coords),\n",
    "#         'mascons' : np.asarray(mascon_coords),\n",
    "#         'products': np.asarray(products)\n",
    "#     }\n",
    "    \n",
    "#     return agg_data"
   ]
  },
  {
   "cell_type": "code",
   "execution_count": 8,
   "metadata": {},
   "outputs": [],
   "source": [
    "masked_gdf = select_mascons(ds, mascon_gdf)\n",
    "agg_data = aggregate_mascons(ds, masked_gdf, scale_factor = 86400)\n",
    "\n",
    "\n",
    "# Save to pickle file\n",
    "with open('agg_data.pkl', 'wb') as file:\n",
    "    pickle.dump(agg_data, file)"
   ]
  },
  {
   "cell_type": "code",
   "execution_count": 10,
   "metadata": {},
   "outputs": [
    {
     "data": {
      "text/plain": [
       "{'data': array([[[-1.95201416e-03,  4.21460764e-03,  4.59039677e-03, ...,\n",
       "           6.23808503e-01,  7.51392603e-01,  5.52917898e-01],\n",
       "         [ 2.60291528e-03,  1.97466016e-02,  2.00473685e-02, ...,\n",
       "           9.93436396e-01,  1.07982814e+00,  1.09491241e+00],\n",
       "         [ 2.53958674e-03,  3.51013467e-02,  3.39275487e-02, ...,\n",
       "           2.94144243e-01,  3.07767153e-01,  3.37632477e-01],\n",
       "         ...,\n",
       "         [            nan,             nan,             nan, ...,\n",
       "                      nan,             nan,             nan],\n",
       "         [            nan,             nan,             nan, ...,\n",
       "                      nan,             nan,             nan],\n",
       "         [            nan,             nan,             nan, ...,\n",
       "                      nan,             nan,             nan]],\n",
       " \n",
       "        [[ 0.00000000e+00,  1.53682471e-04,  3.87068954e-04, ...,\n",
       "           3.00826766e-02,  2.22792551e-02,  8.01236089e-03],\n",
       "         [ 0.00000000e+00,  6.89171080e-04,  5.89888252e-04, ...,\n",
       "           5.10639623e-02,  6.36766702e-02,  5.69704026e-02],\n",
       "         [ 0.00000000e+00,  0.00000000e+00,  3.64645380e-12, ...,\n",
       "           3.43057971e-10,  7.26582516e-10,  2.06011308e-07],\n",
       "         ...,\n",
       "         [            nan,             nan,             nan, ...,\n",
       "                      nan,             nan,             nan],\n",
       "         [            nan,             nan,             nan, ...,\n",
       "                      nan,             nan,             nan],\n",
       "         [            nan,             nan,             nan, ...,\n",
       "                      nan,             nan,             nan]],\n",
       " \n",
       "        [[ 1.12402275e-01,  1.12230003e-01,  1.11894511e-01, ...,\n",
       "           3.87747318e-01,  3.88081580e-01,  3.89239937e-01],\n",
       "         [ 6.33574128e-02,  6.32692054e-02,  6.30720332e-02, ...,\n",
       "           3.72611821e-01,  3.71992201e-01,  3.71783137e-01],\n",
       "         [ 8.43286049e-03,  8.44603404e-03,  8.43749754e-03, ...,\n",
       "           9.28814244e-03,  9.28912777e-03,  9.29005723e-03],\n",
       "         ...,\n",
       "         [            nan,             nan,             nan, ...,\n",
       "                      nan,             nan,             nan],\n",
       "         [            nan,             nan,             nan, ...,\n",
       "                      nan,             nan,             nan],\n",
       "         [            nan,             nan,             nan, ...,\n",
       "                      nan,             nan,             nan]],\n",
       " \n",
       "        ...,\n",
       " \n",
       "        [[ 0.00000000e+00,  0.00000000e+00,  0.00000000e+00, ...,\n",
       "           6.23895248e-05,  5.17382439e-08,  2.68018781e-03],\n",
       "         [ 0.00000000e+00,  6.59394251e-13,  5.48047607e-10, ...,\n",
       "           1.91693471e-05,  1.75500980e-09,  2.08408828e-03],\n",
       "         [ 0.00000000e+00,  0.00000000e+00,  1.66913622e-10, ...,\n",
       "           1.91253502e-09,  3.95648531e-12,  1.53468900e-05],\n",
       "         ...,\n",
       "         [            nan,             nan,             nan, ...,\n",
       "                      nan,             nan,             nan],\n",
       "         [            nan,             nan,             nan, ...,\n",
       "                      nan,             nan,             nan],\n",
       "         [            nan,             nan,             nan, ...,\n",
       "                      nan,             nan,             nan]],\n",
       " \n",
       "        [[ 0.00000000e+00,  4.78741953e-08,  2.82036373e-04, ...,\n",
       "           2.44088515e-04,  5.60414901e-06,  5.88435978e-02],\n",
       "         [ 0.00000000e+00,  5.12503862e-09,  5.96308155e-07, ...,\n",
       "           1.34307566e-05,  1.46055668e-09,  1.14680198e-03],\n",
       "         [ 0.00000000e+00,  2.55007127e-12,  1.79614057e-09, ...,\n",
       "           0.00000000e+00,  0.00000000e+00,  0.00000000e+00],\n",
       "         ...,\n",
       "         [            nan,             nan,             nan, ...,\n",
       "                      nan,             nan,             nan],\n",
       "         [            nan,             nan,             nan, ...,\n",
       "                      nan,             nan,             nan],\n",
       "         [            nan,             nan,             nan, ...,\n",
       "                      nan,             nan,             nan]],\n",
       " \n",
       "        [[ 4.66845216e+08,  4.66840160e+08,  4.66830176e+08, ...,\n",
       "           4.72071936e+08,  4.71977632e+08,  4.71888576e+08],\n",
       "         [ 4.67369824e+08,  4.67366176e+08,  4.67359200e+08, ...,\n",
       "           4.81346720e+08,  4.81220288e+08,  4.81089600e+08],\n",
       "         [ 4.46736064e+08,  4.46734880e+08,  4.46733152e+08, ...,\n",
       "           4.46954656e+08,  4.46929152e+08,  4.46901440e+08],\n",
       "         ...,\n",
       "         [            nan,             nan,             nan, ...,\n",
       "                      nan,             nan,             nan],\n",
       "         [            nan,             nan,             nan, ...,\n",
       "                      nan,             nan,             nan],\n",
       "         [            nan,             nan,             nan, ...,\n",
       "                      nan,             nan,             nan]]],\n",
       "       dtype=float32),\n",
       " 'time': array(['2001-01-01T00:00:00.000000000', '2001-01-02T00:00:00.000000000',\n",
       "        '2001-01-03T00:00:00.000000000', ...,\n",
       "        '2017-09-28T00:00:00.000000000', '2017-09-29T00:00:00.000000000',\n",
       "        '2017-09-30T00:00:00.000000000'], dtype='datetime64[ns]'),\n",
       " 'mascons': array([ 6693,  6694,  6695,  6696,  6697,  6698,  6699,  6700,  6701,\n",
       "         6712,  6713,  6714,  6715,  6716,  6717,  6718,  6719,  6731,\n",
       "         6732,  6733,  6734,  6735,  6736,  6737,  6738,  6751,  6752,\n",
       "         6753,  6754,  6755,  6756,  6757,  6769,  6770,  6771,  6772,\n",
       "         6773,  6774,  6777,  6778,  6779,  6780,  6785,  6786,  6787,\n",
       "         6788,  6794,  6795,  6796,  6802,  6803,  6804,  6810,  7742,\n",
       "         7743,  7745,  7746,  7747,  7748,  7749,  7750,  7759,  7760,\n",
       "         7761,  7762,  7763,  7764,  7765,  7766,  7777,  7778,  7779,\n",
       "         7780,  7781,  7782,  7783,  7784,  7796,  7797,  7798,  7799,\n",
       "         7800,  7801,  7802,  7803,  7804,  7814,  7815,  7816,  7817,\n",
       "         7818,  7819,  7820,  7821,  7822,  7823,  7832,  7833,  7834,\n",
       "         7835,  7836,  7837,  7838,  7839,  7840,  7841,  7850,  7851,\n",
       "         7852,  7853,  7854,  7855,  7856,  7857,  7858,  7859,  7867,\n",
       "         7868,  7869,  7877,  7878,  7881,  7887,  7888,  7889,  7890,\n",
       "         7907,  7908,  7909,  8000,  8001,  8002,  8003,  8004,  8005,\n",
       "         8006,  8007,  8008,  8009,  8010,  8011,  8018,  8019,  8020,\n",
       "         8021,  8022,  8023,  8024,  8025,  8026,  8027,  8028,  8029,\n",
       "         8030,  8031,  8032,  8033,  8034,  8035,  8036,  8037,  8038,\n",
       "         8039,  8040,  8041,  8042,  8043,  8044,  8045,  8046,  8047,\n",
       "         8048,  8049,  8050,  8051,  8052,  8053,  8054,  8055,  8056,\n",
       "         8057,  8058,  8059,  8060,  8061,  8062,  8065,  8066,  8067,\n",
       "         8068,  8069,  8070,  8071,  8072,  8073,  8074,  8075,  8076,\n",
       "         8077,  8078,  8079,  8080,  8081,  8082,  8083,  8084,  8085,\n",
       "         8086,  8087,  8088,  8089,  8090,  8091,  8092,  8093,  8094,\n",
       "         8095,  8096,  8097,  8098,  8099,  8100,  8101,  8102,  8103,\n",
       "         8104,  8105,  8106,  8107,  8108,  8109,  8110,  8111,  8112,\n",
       "         8113,  8114,  8115,  8116,  8117,  8118,  8119,  8120,  8121,\n",
       "         8122,  8123,  8124,  8125,  8126,  8127,  8128,  8129,  8130,\n",
       "         8131,  8132,  8133,  8134,  8135,  8136,  9952,  9961,  9969,\n",
       "         9970,  9973,  9978,  9987,  9988,  9989,  9994,  9995,  9996,\n",
       "        10001, 10002, 10003, 10009, 10010, 10077, 10117, 10118, 10119,\n",
       "        10120, 10121, 10122, 10124, 10125, 10126, 10127, 10128, 10129,\n",
       "        10130, 10131, 10133, 10134, 10135, 10136, 10137, 10138, 10139,\n",
       "        10141, 10142, 10143, 10144, 10145, 10146, 10147, 18807, 19002,\n",
       "        19003, 19196, 19197]),\n",
       " 'products': array(['Evap_tavg', 'Qs_tavg', 'Qsb_tavg', 'Qsm_tavg', 'Rainf_tavg',\n",
       "        'Snowf_tavg', 'TWS_tavg'], dtype='<U10')}"
      ]
     },
     "execution_count": 10,
     "metadata": {},
     "output_type": "execute_result"
    }
   ],
   "source": [
    "agg_data"
   ]
  },
  {
   "cell_type": "markdown",
   "metadata": {},
   "source": [
    "### This workflow continues on another notebook [>>](GRACE_LIS_fullyProcessed_comparison.ipynb)"
   ]
  }
 ],
 "metadata": {
  "kernelspec": {
   "display_name": "Python 3",
   "language": "python",
   "name": "python3"
  },
  "language_info": {
   "codemirror_mode": {
    "name": "ipython",
    "version": 3
   },
   "file_extension": ".py",
   "mimetype": "text/x-python",
   "name": "python",
   "nbconvert_exporter": "python",
   "pygments_lexer": "ipython3",
   "version": "3.6.6"
  }
 },
 "nbformat": 4,
 "nbformat_minor": 2
}
